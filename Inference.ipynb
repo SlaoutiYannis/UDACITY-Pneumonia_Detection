{
 "cells": [
  {
   "cell_type": "code",
   "execution_count": 1,
   "metadata": {},
   "outputs": [
    {
     "name": "stderr",
     "output_type": "stream",
     "text": [
      "Using TensorFlow backend.\n"
     ]
    }
   ],
   "source": [
    "import numpy as np\n",
    "import pandas as pd\n",
    "import pydicom\n",
    "%matplotlib inline\n",
    "import matplotlib.pyplot as plt\n",
    "import keras \n",
    "from keras.preprocessing.image import ImageDataGenerator\n",
    "from keras.models import model_from_json\n",
    "from keras.optimizers import Adam\n",
    "from skimage.transform import resize"
   ]
  },
  {
   "cell_type": "code",
   "execution_count": 2,
   "metadata": {},
   "outputs": [],
   "source": [
    "# This function reads in a .dcm file, checks the important fields for our device, and returns a numpy array\n",
    "# of just the imaging data\n",
    "def check_dicom(filename): \n",
    "    # todo\n",
    "    print('Load file {} ...'.format(filename))\n",
    "    ds = pydicom.dcmread(filename)       \n",
    "    if ((ds.Modality != 'DX') or (ds.PatientPosition not in ['AP', 'PA'])\n",
    "        or (ds.BodyPartExamined != 'CHEST')):\n",
    "        print('File {} is not suitable'.format(filename))\n",
    "        return False\n",
    "    img = ds.pixel_array\n",
    "    return img\n",
    "    \n",
    "    \n",
    "# This function takes the numpy array output by check_dicom and \n",
    "# runs the appropriate pre-processing needed for our model input\n",
    "def preprocess_image(img,img_size): \n",
    "    # todo\n",
    "#     input_img = (img - img_mean)/img_std  # I don'tuse this when preprocessing\n",
    "    input_img = resize(img, img_size)\n",
    "    my_idg = ImageDataGenerator(rescale=1. / 255.0,\n",
    "                               featurewise_center = True,  # zero-meaning\n",
    "                               featurewise_std_normalization = True)  # standardization)\n",
    "    my_idg.fit(input_img)\n",
    "    proc_img = my_idg.flow(input_img)\n",
    "    return proc_img\n",
    "\n",
    "\n",
    "# This function loads in our trained model w/ weights and compiles it \n",
    "def load_model(model_path, weight_path):\n",
    "    # load json and create model\n",
    "    json_file = open(model_path, 'r')\n",
    "    loaded_model_json = json_file.read()\n",
    "    json_file.close()\n",
    "    model = model_from_json(loaded_model_json)\n",
    "    # buid the model with the input shape\n",
    "    model.build((None, 224, 224, 3))\n",
    "    # load weights into new model\n",
    "    model.load_weights(weight_path)\n",
    "    ## Set our optimizer, loss function, and learning rate\n",
    "    optimizer = Adam(lr=0.001)\n",
    "    loss = 'binary_crossentropy'\n",
    "    metrics = ['binary_accuracy']\n",
    "    model.compile(optimizer=optimizer, loss=loss, metrics=metrics)\n",
    "    return model\n",
    "\n",
    "\n",
    "# This function uses our device's threshold parameters to predict whether or not\n",
    "# the image shows the presence of pneumonia using our trained model\n",
    "def predict_image(model, img, thresh): \n",
    "    # todo \n",
    "    pred_prob = model.predict(img)\n",
    "    prediction = 'Pneumonia' if pred_prob>thresh else 'No Pneumonia'\n",
    "    return prediction"
   ]
  },
  {
   "cell_type": "code",
   "execution_count": 3,
   "metadata": {},
   "outputs": [
    {
     "name": "stdout",
     "output_type": "stream",
     "text": [
      "Load file test1.dcm ...\n",
      "No Pneumonia\n",
      "Load file test2.dcm ...\n",
      "No Pneumonia\n",
      "Load file test3.dcm ...\n",
      "No Pneumonia\n",
      "Load file test4.dcm ...\n",
      "File test4.dcm is not suitable\n",
      "Load file test5.dcm ...\n",
      "File test5.dcm is not suitable\n",
      "Load file test6.dcm ...\n",
      "File test6.dcm is not suitable\n"
     ]
    }
   ],
   "source": [
    "test_dicoms = ['test1.dcm','test2.dcm','test3.dcm','test4.dcm','test5.dcm','test6.dcm']\n",
    "\n",
    "model_path = 'my_model.json'  #path to saved model\n",
    "weight_path = 'xray_class_my_model2.best.hdf5'  #path to saved best weights\n",
    "\n",
    "IMG_SIZE=(1,224,224,3)  # This might be different if you did not use vgg16\n",
    "# img_mean =  # loads the mean image value they used during training preprocessing\n",
    "# img_std =  # loads the std dev image value they used during training preprocessing\n",
    "\n",
    "my_model = load_model(model_path, weight_path)  #loads model\n",
    "thresh = 0.4  # again, this treshold might be low but it was optimal with the training data\n",
    "\n",
    "# use the .dcm files to test your prediction\n",
    "for i in test_dicoms:\n",
    "    \n",
    "    img = np.array([])\n",
    "    img = check_dicom(i)\n",
    "    \n",
    "    if img is False:\n",
    "        continue\n",
    "        \n",
    "    img_proc = preprocess_image(img,IMG_SIZE)\n",
    "    pred = predict_image(my_model,img_proc,thresh)\n",
    "    print(pred)"
   ]
  },
  {
   "cell_type": "code",
   "execution_count": null,
   "metadata": {},
   "outputs": [],
   "source": []
  }
 ],
 "metadata": {
  "kernelspec": {
   "display_name": "Python 3",
   "language": "python",
   "name": "python3"
  },
  "language_info": {
   "codemirror_mode": {
    "name": "ipython",
    "version": 3
   },
   "file_extension": ".py",
   "mimetype": "text/x-python",
   "name": "python",
   "nbconvert_exporter": "python",
   "pygments_lexer": "ipython3",
   "version": "3.7.6"
  }
 },
 "nbformat": 4,
 "nbformat_minor": 2
}
